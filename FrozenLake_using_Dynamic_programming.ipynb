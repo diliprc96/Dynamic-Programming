{
  "cells": [
    {
      "cell_type": "markdown",
      "metadata": {
        "id": "view-in-github",
        "colab_type": "text"
      },
      "source": [
        "<a href=\"https://colab.research.google.com/github/diliprc96/Dynamic-Programming/blob/main/FrozenLake_using_Dynamic_programming.ipynb\" target=\"_parent\"><img src=\"https://colab.research.google.com/assets/colab-badge.svg\" alt=\"Open In Colab\"/></a>"
      ]
    },
    {
      "cell_type": "markdown",
      "metadata": {
        "id": "NYlYxPEMMTYH"
      },
      "source": [
        "## Group No 160\n",
        "\n",
        "## Group Member Names:\n",
        "1. Dilip R 2023ad05030\n",
        "2. Ishwar Prashanth V 2023ac05162\n",
        "3. Bharath H M 2023ac05045\n",
        "4. Hrituj 2023ac05313"
      ]
    },
    {
      "cell_type": "markdown",
      "metadata": {
        "id": "kkXPirB1MTYK"
      },
      "source": [
        "1.**Problem statement**:\n",
        "\n",
        "* Develop a reinforcement learning agent using dynamic programming to solve the Treasure Hunt problem in a FrozenLake environment. The agent must learn the optimal policy for navigating the lake while avoiding holes and maximizing its treasure collection.\n",
        "\n",
        "2.**Scenario**:\n",
        "* A treasure hunter is navigating a slippery 5x5 FrozenLake grid. The objective is to navigate through the lake collecting treasures while avoiding holes and ultimately reaching the exit (goal).\n",
        "Grid positions on a 5x5 map with tiles labeled as S, F, H, G, T. The state includes the current position of the agent and whether treasures have been collected.\n",
        "\n",
        "\n",
        "#### Objective\n",
        "* The agent must learn the optimal policy π* using dynamic programming to maximize its cumulative reward while navigating the lake.\n",
        "\n",
        "#### About the environment\n",
        "\n",
        "The environment consists of several types of tiles:\n",
        "* Start (S): The initial position of the agent, safe to step.\n",
        "* Frozen Tiles (F): Frozen surface, safe to step.\n",
        "* Hole (H): Falling into a hole ends the game immediately (die, end).\n",
        "* Goal (G): Exit point; reaching here ends the game successfully (safe, end).\n",
        "* Treasure Tiles (T): Added to the environment. Stepping on these tiles awards +5 reward but does not end the game.\n",
        "\n",
        "After stepping on a treasure tile, it becomes a frozen tile (F).\n",
        "The agent earns rewards as follows:\n",
        "* Reaching the goal (G): +10 reward.\n",
        "* Falling into a hole (H): -10 reward.\n",
        "* Collecting a treasure (T): +5 reward.\n",
        "* Stepping on a frozen tile (F): 0 reward.\n",
        "\n",
        "#### States\n",
        "* Current position of the agent (row, column).\n",
        "* A boolean flag (or equivalent) for whether each treasure has been collected.\n",
        "\n",
        "#### Actions\n",
        "* Four possible moves: up, down, left, right\n",
        "\n",
        "#### Rewards\n",
        "* Goal (G): +10.\n",
        "* Treasure (T): +5 per treasure.\n",
        "* Hole (H): -10.\n",
        "* Frozen tiles (F): 0.\n",
        "\n",
        "#### Environment\n",
        "Modify the FrozenLake environment in OpenAI Gym to include treasures (T) at certain positions. Inherit the original FrozenLakeEnv and modify the reset and step methods accordingly.\n",
        "Example grid:\n",
        "\n",
        "\n"
      ]
    },
    {
      "cell_type": "markdown",
      "metadata": {
        "id": "v7NLPkoeMTYL"
      },
      "source": []
    },
    {
      "cell_type": "markdown",
      "metadata": {
        "id": "gdkwnNHVMTYL"
      },
      "source": [
        "**Expected Outcomes:**\n",
        "1.\tCreate the custom environment by modifying the existing “FrozenLakeNotSlippery-v0” in OpenAI Gym and Implement the dynamic programming using value iteration and policy improvement to learn the optimal policy for the Treasure Hunt problem.\n",
        "2.\tCalculate the state-value function (V*) for each state on the map after learning the optimal policy.\n",
        "3.\tCompare the agent’s performance with and without treasures, discussing the trade-offs in reward maximization.\n",
        "4.\tVisualize the agent’s direction on the map using the learned policy.\n",
        "5.\tCalculate expected total reward over multiple episodes to evaluate performance."
      ]
    },
    {
      "cell_type": "markdown",
      "metadata": {
        "id": "hInG_-M-MTYM"
      },
      "source": [
        "### Import required libraries and Define the custom environment - 2 Marks"
      ]
    },
    {
      "cell_type": "code",
      "execution_count": 1,
      "metadata": {
        "id": "1WEnsE38MTYM"
      },
      "outputs": [],
      "source": [
        "# Import statements\n",
        "import numpy as np\n",
        "import gym\n",
        "from gym.envs.toy_text.frozen_lake import FrozenLakeEnv\n",
        "import matplotlib.pyplot as plt\n",
        "import copy"
      ]
    },
    {
      "cell_type": "code",
      "execution_count": 2,
      "metadata": {
        "id": "LnnQnoh5MTYN",
        "outputId": "948aad40-6e67-4bc4-aaf7-8a712446bcd4",
        "colab": {
          "base_uri": "https://localhost:8080/"
        }
      },
      "outputs": [
        {
          "output_type": "stream",
          "name": "stderr",
          "text": [
            "/usr/local/lib/python3.10/dist-packages/ipykernel/ipkernel.py:283: DeprecationWarning: `should_run_async` will not call `transform_cell` automatically in the future. Please pass the result to `transformed_cell` argument and any exception that happen during thetransform in `preprocessing_exc_tuple` in IPython 7.17 and above.\n",
            "  and should_run_async(code)\n"
          ]
        }
      ],
      "source": [
        "# Custom environment to create the given grid and respective functions that are required for the problem\n",
        "\n",
        "#Include functions to take an action, get reward, to check if episode is over\n",
        "\n",
        "class TreasureHuntFrozenLakeEnv(FrozenLakeEnv):\n",
        "    def __init__(self, desc=None, map_name=\"5x5\", is_slippery=True):\n",
        "        # Define the 5x5 map with treasures (T)\n",
        "        desc = np.array([\n",
        "            \"SFFHT\",\n",
        "            \"FHFFF\",\n",
        "            \"FFFTF\",\n",
        "            \"TFHFF\",\n",
        "            \"FFFFG\"\n",
        "        ], dtype=\"c\")\n",
        "        super().__init__(desc=desc, map_name=map_name, is_slippery=is_slippery)\n",
        "        self.treasure_positions = {(0, 4), (2, 3), (3, 0)}  # Treasure positions in the given map\n",
        "        self.nS = self.observation_space.n\n",
        "        self.nA = self.action_space.n\n",
        "        self.holes = self.desc.flatten() == b'H'\n",
        "        self.goal = np.where(self.desc.flatten() == b'G')[0][0]\n",
        "\n",
        "    def step(self, action):\n",
        "        obs, reward, terminated, truncated, info = super().step(action)\n",
        "\n",
        "        # Combine terminated and truncated into a single 'done' flag\n",
        "        done = terminated or truncated\n",
        "\n",
        "        row, col = divmod(obs, self.ncol)\n",
        "\n",
        "        # If the agent steps on a treasure\n",
        "        if (row, col) in self.treasure_positions:\n",
        "            reward += 5  # Award +5 for treasure\n",
        "            self.desc[row, col] = b'F'  # Convert treasure tile to frozen tile\n",
        "            self.treasure_positions.remove((row, col))\n",
        "            print(f\"Treasure collected at: ({row}, {col}, {reward})\")\n",
        "\n",
        "        # If the agent reaches the goal\n",
        "        if (row, col) == (4, 4):\n",
        "            reward += 10  # Goal reward\n",
        "            # print(f\"Goal reached! Reward: {reward}\")\n",
        "        # Convert (row, col) to a 1D index for self.holes\n",
        "        state_index = row * self.ncol + col\n",
        "\n",
        "        # Check if the agent is in a hole using the calculated index\n",
        "        if self.holes[state_index]:\n",
        "            reward -= 10\n",
        "            # print(f'hole {reward}')\n",
        "\n",
        "\n",
        "        # Debug: Log reward after the step\n",
        "        # print(f\"Reward: {reward}, Done: {done}\")\n",
        "\n",
        "\n",
        "        # Return the expected 4 values\n",
        "        return obs, reward, done, info\n"
      ]
    },
    {
      "cell_type": "markdown",
      "metadata": {
        "id": "_Dwc-TiNMTYO"
      },
      "source": [
        "### Value Iteration Algorithm - 1 Mark"
      ]
    },
    {
      "cell_type": "code",
      "execution_count": 3,
      "metadata": {
        "id": "xYQeYfDrMTYO"
      },
      "outputs": [],
      "source": [
        "def compute_q_value(env, value_function, state, action, gamma):\n",
        "    q_value = 0\n",
        "    for prob, next_state, reward, done in env.P[state][action]:\n",
        "        q_value += prob * (reward + gamma * value_function[next_state] * (not done))\n",
        "    return q_value\n",
        "\n",
        "def value_iteration(env, gamma=0.99, theta=1e-5):\n",
        "    value_function = np.zeros(env.nS)  # Initialize value function\n",
        "    changes = []  # Track convergence\n",
        "\n",
        "    while True:\n",
        "        delta = 0\n",
        "        for state in range(env.nS):\n",
        "            if state in env.holes or state == env.goal:\n",
        "                continue  # Skip terminal states\n",
        "            v = value_function[state]\n",
        "            value_function[state] = max(compute_q_value(env, value_function, state, action, gamma)\n",
        "                                        for action in range(env.nA))\n",
        "            delta = max(delta, abs(v - value_function[state]))\n",
        "        changes.append(delta)  # Log the maximum change in this iteration\n",
        "\n",
        "        if delta < theta:  # Stop if value function converges\n",
        "            break\n",
        "        # print(f\"Delta: {delta}\")\n",
        "        # print(f\"Value Function: {value_function}\")\n",
        "        # print(f\"changes:  {changes}\")\n",
        "    # Plot convergence\n",
        "    plt.plot(changes)\n",
        "    plt.xlabel(\"Iterations\")\n",
        "    plt.ylabel(\"Max Change (Delta)\")\n",
        "    plt.title(\"Value Iteration Convergence\")\n",
        "    plt.show()\n",
        "\n",
        "    return value_function\n"
      ]
    },
    {
      "cell_type": "markdown",
      "metadata": {
        "id": "QkoLU7kaMTYO"
      },
      "source": [
        "### Policy Improvement Function - 1 Mark"
      ]
    },
    {
      "cell_type": "code",
      "execution_count": 4,
      "metadata": {
        "id": "pdIpbJERMTYO"
      },
      "outputs": [],
      "source": [
        "def policy_improvement(env, value_function, gamma=0.99):\n",
        "    policy = np.zeros(env.nS, dtype=int)\n",
        "    changes = []  # Track convergence of policy improvement\n",
        "\n",
        "    for state in range(env.nS):\n",
        "        if state in env.holes or state == env.goal:\n",
        "            continue\n",
        "        best_action = np.argmax([compute_q_value(env, value_function, state, action, gamma)\n",
        "                                 for action in range(env.nA)])\n",
        "        changes.append(policy[state] != best_action)\n",
        "        policy[state] = best_action\n",
        "\n",
        "    # Convergence info\n",
        "    policy_changes = np.sum(changes)\n",
        "    print(f\"Number of policy changes during improvement: {policy_changes}\")\n",
        "\n",
        "    return policy\n"
      ]
    },
    {
      "cell_type": "markdown",
      "metadata": {
        "id": "gspm5RgBMTYO"
      },
      "source": [
        "### Print the Optimal Value Function"
      ]
    },
    {
      "cell_type": "code",
      "execution_count": 5,
      "metadata": {
        "id": "vBJyy5M7MTYO"
      },
      "outputs": [],
      "source": [
        "def print_value_function(value_function, env):\n",
        "    print(\"Optimal Value Function:\")\n",
        "    grid = np.round(value_function.reshape(env.nrow, env.ncol), 2)\n",
        "    print(grid)\n"
      ]
    },
    {
      "cell_type": "markdown",
      "metadata": {
        "id": "kpfNYA2KMTYO"
      },
      "source": [
        "### Visualization of the learned optimal policy - 1 Mark"
      ]
    },
    {
      "cell_type": "code",
      "execution_count": 6,
      "metadata": {
        "id": "pZdIwHrLMTYO"
      },
      "outputs": [],
      "source": [
        "def visualize_policy_on_map(policy, env):\n",
        "    \"\"\"\n",
        "    Visualize the learned policy as arrows on the map.\n",
        "    \"\"\"\n",
        "    actions = ['←', '↓', '→', '↑']  # Left, Down, Right, Up\n",
        "    policy_grid = np.array([actions[action] for action in policy]).reshape(env.nrow, env.ncol)\n",
        "\n",
        "    # Overlay the policy directions on the environment map\n",
        "    visualization = env.desc.astype(str)  # Convert bytes to strings\n",
        "    for row in range(env.nrow):\n",
        "        for col in range(env.ncol):\n",
        "            if visualization[row, col] not in ['H', 'G']:  # Exclude holes and goals\n",
        "                visualization[row, col] = policy_grid[row, col]\n",
        "\n",
        "    # Display the map with arrows\n",
        "    print(\"Policy Visualization on the Map:\")\n",
        "    for row in visualization:\n",
        "        print(' '.join(row))\n",
        "\n",
        "\n"
      ]
    },
    {
      "cell_type": "markdown",
      "metadata": {
        "id": "_NzFdsOoMTYP"
      },
      "source": [
        "### Evaluate the policy - 1 Mark"
      ]
    },
    {
      "cell_type": "markdown",
      "source": [],
      "metadata": {
        "id": "-3h4jzHvYlA7"
      }
    },
    {
      "cell_type": "code",
      "execution_count": 7,
      "metadata": {
        "id": "2a6kkxy_MTYP"
      },
      "outputs": [],
      "source": [
        "def evaluate_agent(env, policy, num_episodes=1000):\n",
        "    total_rewards = []\n",
        "    for _ in range(num_episodes):\n",
        "        state = env.reset()\n",
        "        total_reward = 0\n",
        "        done = False\n",
        "        while not done:\n",
        "            action = policy[state]\n",
        "            state, reward, done, _ = env.step(action)\n",
        "            total_reward += reward\n",
        "        total_rewards.append(total_reward)\n",
        "    return np.mean(total_rewards)\n"
      ]
    },
    {
      "cell_type": "markdown",
      "metadata": {
        "id": "vB7fi4OyMTYP"
      },
      "source": [
        "### Main Execution"
      ]
    },
    {
      "cell_type": "code",
      "execution_count": 8,
      "metadata": {
        "id": "rxxMINSHMTYP",
        "outputId": "9e67038a-4f43-4cf0-c818-e10964557ef5",
        "colab": {
          "base_uri": "https://localhost:8080/",
          "height": 654
        }
      },
      "outputs": [
        {
          "output_type": "display_data",
          "data": {
            "text/plain": [
              "<Figure size 640x480 with 1 Axes>"
            ],
            "image/png": "[encoded data removed]"
          },
          "metadata": {}
        },
        {
          "output_type": "stream",
          "name": "stdout",
          "text": [
            "Number of policy changes during improvement: 16\n",
            "Treasure collected at: (3, 0, 5.0)\n",
            "Treasure collected at: (2, 3, 5.0)\n",
            "Treasure collected at: (0, 4, 5.0)\n",
            "Optimal Value Function:\n",
            "[[0.   0.   0.27 0.   0.79]\n",
            " [0.36 0.   0.55 0.72 0.81]\n",
            " [0.73 0.71 0.69 0.81 0.86]\n",
            " [0.76 0.75 0.   0.88 0.93]\n",
            " [0.79 0.81 0.86 0.93 0.  ]]\n"
          ]
        }
      ],
      "source": [
        "env_with_treasures = TreasureHuntFrozenLakeEnv()\n",
        "value_function_with_treasures = value_iteration(env_with_treasures)\n",
        "policy_with_treasures = policy_improvement(env_with_treasures, value_function_with_treasures)\n",
        "average_reward_with_treasures = evaluate_agent(env_with_treasures, policy_with_treasures)\n",
        "print_value_function(value_function_with_treasures, env_with_treasures)\n",
        "\n"
      ]
    },
    {
      "cell_type": "code",
      "source": [
        "# Environment without treasures (remove treasure positions)\n",
        "class FrozenLakeEnvWithoutTreasures(TreasureHuntFrozenLakeEnv):\n",
        "    def __init__(self):\n",
        "        super().__init__()\n",
        "        # Replace all treasure tiles ('T') with frozen tiles ('F')\n",
        "        self.desc = copy.deepcopy(self.desc)\n",
        "        self.desc = np.where(self.desc == b'T', b'F', self.desc)\n",
        "        self.treasure_positions = set()  # Ensure no treasures\n",
        "\n",
        "env_without_treasures = FrozenLakeEnvWithoutTreasures()\n",
        "value_function_without_treasures = value_iteration(env_without_treasures)\n",
        "policy_without_treasures = policy_improvement(env_without_treasures, value_function_without_treasures)\n",
        "average_reward_without_treasures = evaluate_agent(env_without_treasures, policy_without_treasures)\n",
        "print_value_function(value_function_without_treasures, env_without_treasures)\n",
        "\n",
        "# Results\n",
        "print(\"Performance Comparison:\")\n",
        "print(f\"Average Reward (With Treasures): {average_reward_with_treasures}\")\n",
        "print(f\"Average Reward (Without Treasures): {average_reward_without_treasures}\")\n"
      ],
      "metadata": {
        "id": "Pf6SHSLNG-uL",
        "outputId": "f4071053-7427-4633-ca24-b680d5228fd8",
        "colab": {
          "base_uri": "https://localhost:8080/",
          "height": 654
        }
      },
      "execution_count": 9,
      "outputs": [
        {
          "output_type": "display_data",
          "data": {
            "text/plain": [
              "<Figure size 640x480 with 1 Axes>"
            ],
            "image/png": "[encoded data removed]"
          },
          "metadata": {}
        },
        {
          "output_type": "stream",
          "name": "stdout",
          "text": [
            "Number of policy changes during improvement: 16\n",
            "Optimal Value Function:\n",
            "[[0.   0.   0.27 0.   0.79]\n",
            " [0.36 0.   0.55 0.72 0.81]\n",
            " [0.73 0.71 0.69 0.81 0.86]\n",
            " [0.76 0.75 0.   0.88 0.93]\n",
            " [0.79 0.81 0.86 0.93 0.  ]]\n",
            "Performance Comparison:\n",
            "Average Reward (With Treasures): 10.469\n",
            "Average Reward (Without Treasures): 10.034\n"
          ]
        }
      ]
    },
    {
      "cell_type": "markdown",
      "source": [
        "The average reward with treasures is generally higher than without treasures. However, when using 1000 iterations, the difference in average rewards becomes negligible. This is because the agent converges to an optimal policy relatively early, and the reward differences are diluted over a large number of episodes. Conversely, with 100 iterations, the difference in average rewards is more pronounced (greater than 1). This is attributed to the agent's exploratory behavior in the early episodes, where it actively seeks treasures, resulting in higher rewards before convergence."
      ],
      "metadata": {
        "id": "ufInMNeiZn2-"
      }
    },
    {
      "cell_type": "code",
      "source": [
        "env_without_treasures.desc"
      ],
      "metadata": {
        "id": "XR7pE2yBHYfp",
        "outputId": "582658e8-b4b6-400e-9e52-82110fca8369",
        "colab": {
          "base_uri": "https://localhost:8080/"
        }
      },
      "execution_count": 10,
      "outputs": [
        {
          "output_type": "execute_result",
          "data": {
            "text/plain": [
              "array([[b'S', b'F', b'F', b'H', b'F'],\n",
              "       [b'F', b'H', b'F', b'F', b'F'],\n",
              "       [b'F', b'F', b'F', b'F', b'F'],\n",
              "       [b'F', b'F', b'H', b'F', b'F'],\n",
              "       [b'F', b'F', b'F', b'F', b'G']], dtype='|S1')"
            ]
          },
          "metadata": {},
          "execution_count": 10
        }
      ]
    },
    {
      "cell_type": "code",
      "source": [
        "# Visualize the policy for environments with and without treasures\n",
        "print(\"With Treasures:\")\n",
        "visualize_policy_on_map(policy_with_treasures, env_with_treasures)\n",
        "\n",
        "print(\"\\nWithout Treasures:\")\n",
        "visualize_policy_on_map(policy_without_treasures, env_without_treasures)"
      ],
      "metadata": {
        "id": "coiC4atPHc4E",
        "colab": {
          "base_uri": "https://localhost:8080/"
        },
        "outputId": "8c46b1c1-f1d6-4c48-d9ab-284c63ee7d08"
      },
      "execution_count": 11,
      "outputs": [
        {
          "output_type": "stream",
          "name": "stdout",
          "text": [
            "With Treasures:\n",
            "Policy Visualization on the Map:\n",
            "← ← ← H →\n",
            "← H → ↓ →\n",
            "↓ ↓ ↑ → ↓\n",
            "↓ ← H → ↓\n",
            "↓ ↓ ↓ → G\n",
            "\n",
            "Without Treasures:\n",
            "Policy Visualization on the Map:\n",
            "← ← ← H →\n",
            "← H → ↓ →\n",
            "↓ ↓ ↑ → ↓\n",
            "↓ ← H → ↓\n",
            "↓ ↓ ↓ → G\n"
          ]
        }
      ]
    },
    {
      "cell_type": "code",
      "source": [],
      "metadata": {
        "id": "WFw4b4uZbQhC"
      },
      "execution_count": null,
      "outputs": []
    }
  ],
  "metadata": {
    "kernelspec": {
      "display_name": "base",
      "language": "python",
      "name": "python3"
    },
    "language_info": {
      "name": "python",
      "version": "3.7.6"
    },
    "colab": {
      "provenance": [],
      "include_colab_link": true
    }
  },
  "nbformat": 4,
  "nbformat_minor": 0
}